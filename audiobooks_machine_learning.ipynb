{
 "cells": [
  {
   "attachments": {},
   "cell_type": "markdown",
   "metadata": {},
   "source": [
    "### Creating a machine learning algorithm"
   ]
  },
  {
   "attachments": {},
   "cell_type": "markdown",
   "metadata": {},
   "source": [
    "#### Import relevant libraries"
   ]
  },
  {
   "cell_type": "code",
   "execution_count": 24,
   "metadata": {},
   "outputs": [],
   "source": [
    "import numpy as np\n",
    "import tensorflow as tf"
   ]
  },
  {
   "attachments": {},
   "cell_type": "markdown",
   "metadata": {},
   "source": [
    "#### Data"
   ]
  },
  {
   "cell_type": "code",
   "execution_count": 25,
   "metadata": {},
   "outputs": [],
   "source": [
    "npz = np.load('Audiobooks_data_train.npz')\n",
    "train_inputs = npz['inputs'].astype(float)\n",
    "train_targets = npz['targets'].astype(int)\n",
    "\n",
    "npz = np.load('Audiobooks_data_validation.npz')\n",
    "validation_inputs, validation_targets = npz['inputs'].astype(float), npz['targets'].astype(int)\n",
    "\n",
    "npz = np.load('Audiobooks_data_test.npz')\n",
    "test_inputs, test_targets = npz['inputs'].astype(float), npz['targets'].astype(int)"
   ]
  },
  {
   "attachments": {},
   "cell_type": "markdown",
   "metadata": {},
   "source": [
    "#### Model"
   ]
  },
  {
   "attachments": {},
   "cell_type": "markdown",
   "metadata": {},
   "source": [
    "Outline, optimizers, loss, early stopping, and training"
   ]
  },
  {
   "cell_type": "code",
   "execution_count": 26,
   "metadata": {},
   "outputs": [
    {
     "name": "stdout",
     "output_type": "stream",
     "text": [
      "Epoch 1/100\n"
     ]
    },
    {
     "name": "stderr",
     "output_type": "stream",
     "text": [
      "2023-06-25 11:09:07.018295: I tensorflow/core/grappler/optimizers/custom_graph_optimizer_registry.cc:114] Plugin optimizer for device_type GPU is enabled.\n"
     ]
    },
    {
     "name": "stdout",
     "output_type": "stream",
     "text": [
      "36/36 - 1s - loss: 0.5611 - accuracy: 0.6932 - val_loss: 0.4623 - val_accuracy: 0.7629 - 1s/epoch - 29ms/step\n",
      "Epoch 2/100\n"
     ]
    },
    {
     "name": "stderr",
     "output_type": "stream",
     "text": [
      "2023-06-25 11:09:07.668927: I tensorflow/core/grappler/optimizers/custom_graph_optimizer_registry.cc:114] Plugin optimizer for device_type GPU is enabled.\n"
     ]
    },
    {
     "name": "stdout",
     "output_type": "stream",
     "text": [
      "36/36 - 0s - loss: 0.4246 - accuracy: 0.7770 - val_loss: 0.3953 - val_accuracy: 0.7830 - 304ms/epoch - 8ms/step\n",
      "Epoch 3/100\n",
      "36/36 - 0s - loss: 0.3996 - accuracy: 0.7851 - val_loss: 0.3849 - val_accuracy: 0.7964 - 250ms/epoch - 7ms/step\n",
      "Epoch 4/100\n",
      "36/36 - 0s - loss: 0.3811 - accuracy: 0.7941 - val_loss: 0.3691 - val_accuracy: 0.7830 - 243ms/epoch - 7ms/step\n",
      "Epoch 5/100\n",
      "36/36 - 0s - loss: 0.3689 - accuracy: 0.8069 - val_loss: 0.3479 - val_accuracy: 0.8233 - 249ms/epoch - 7ms/step\n",
      "Epoch 6/100\n",
      "36/36 - 0s - loss: 0.3671 - accuracy: 0.8019 - val_loss: 0.3617 - val_accuracy: 0.8188 - 244ms/epoch - 7ms/step\n",
      "Epoch 7/100\n",
      "36/36 - 0s - loss: 0.3598 - accuracy: 0.8069 - val_loss: 0.3404 - val_accuracy: 0.8143 - 250ms/epoch - 7ms/step\n",
      "Epoch 8/100\n",
      "36/36 - 0s - loss: 0.3598 - accuracy: 0.8050 - val_loss: 0.3537 - val_accuracy: 0.7919 - 244ms/epoch - 7ms/step\n",
      "Epoch 9/100\n",
      "36/36 - 0s - loss: 0.3570 - accuracy: 0.8064 - val_loss: 0.3416 - val_accuracy: 0.8255 - 242ms/epoch - 7ms/step\n"
     ]
    },
    {
     "data": {
      "text/plain": [
       "<keras.callbacks.History at 0x2826e9280>"
      ]
     },
     "execution_count": 26,
     "metadata": {},
     "output_type": "execute_result"
    }
   ],
   "source": [
    "input_size = 10\n",
    "hidden_layer_size = 50\n",
    "output_size = 2\n",
    "\n",
    "model = tf.keras.Sequential([\n",
    "    tf.keras.layers.Dense(hidden_layer_size, activation='relu'),\n",
    "    tf.keras.layers.Dense(hidden_layer_size, activation='relu'),\n",
    "    tf.keras.layers.Dense(hidden_layer_size, activation='relu'),\n",
    "    tf.keras.layers.Dense(hidden_layer_size, activation='relu'),\n",
    "    tf.keras.layers.Dense(hidden_layer_size, activation='relu'),\n",
    "    tf.keras.layers.Dense(output_size, activation='softmax')\n",
    "    ])\n",
    "\n",
    "model.compile(optimizer='adam', loss='sparse_categorical_crossentropy', metrics=['accuracy'])\n",
    "\n",
    "batch_size = 100\n",
    "max_epochs = 100\n",
    "early_stopping = tf.keras.callbacks.EarlyStopping(patience=2)\n",
    "\n",
    "model.fit(\n",
    "    train_inputs,\n",
    "    train_targets,\n",
    "    batch_size=batch_size,\n",
    "    epochs=max_epochs,\n",
    "    callbacks=[early_stopping],\n",
    "    validation_data=(validation_inputs, validation_targets),\n",
    "    verbose=2\n",
    "    )"
   ]
  },
  {
   "attachments": {},
   "cell_type": "markdown",
   "metadata": {},
   "source": [
    "#### Testing the model"
   ]
  },
  {
   "cell_type": "code",
   "execution_count": 27,
   "metadata": {},
   "outputs": [
    {
     "name": "stdout",
     "output_type": "stream",
     "text": [
      "14/14 [==============================] - 0s 6ms/step - loss: 0.3460 - accuracy: 0.8237\n"
     ]
    }
   ],
   "source": [
    "test_loss, test_accuracy = model.evaluate(test_inputs, test_targets)"
   ]
  },
  {
   "cell_type": "code",
   "execution_count": 28,
   "metadata": {},
   "outputs": [
    {
     "name": "stdout",
     "output_type": "stream",
     "text": [
      "Test Loss: 0.35, Test Accuracy: 0.82%\n"
     ]
    }
   ],
   "source": [
    "print(\"Test Loss: {0:.2f}, Test Accuracy: {1:.2f}%\".format(test_loss, test_accuracy))"
   ]
  }
 ],
 "metadata": {
  "kernelspec": {
   "display_name": "mlp",
   "language": "python",
   "name": "python3"
  },
  "language_info": {
   "codemirror_mode": {
    "name": "ipython",
    "version": 3
   },
   "file_extension": ".py",
   "mimetype": "text/x-python",
   "name": "python",
   "nbconvert_exporter": "python",
   "pygments_lexer": "ipython3",
   "version": "3.8.13"
  },
  "orig_nbformat": 4
 },
 "nbformat": 4,
 "nbformat_minor": 2
}
