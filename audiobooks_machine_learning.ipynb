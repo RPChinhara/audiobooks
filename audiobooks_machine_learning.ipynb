{
 "cells": [
  {
   "attachments": {},
   "cell_type": "markdown",
   "metadata": {},
   "source": [
    "### Creating a machine learning algorithm"
   ]
  },
  {
   "attachments": {},
   "cell_type": "markdown",
   "metadata": {},
   "source": [
    "#### Import relevant libraries"
   ]
  },
  {
   "cell_type": "code",
   "execution_count": 1,
   "metadata": {},
   "outputs": [],
   "source": [
    "import numpy as np\n",
    "import tensorflow as tf"
   ]
  },
  {
   "attachments": {},
   "cell_type": "markdown",
   "metadata": {},
   "source": [
    "#### Data"
   ]
  },
  {
   "cell_type": "code",
   "execution_count": 2,
   "metadata": {},
   "outputs": [],
   "source": [
    "npz = np.load('Audiobooks_data_train.npz')\n",
    "train_inputs = npz['inputs'].astype(float)\n",
    "train_targets = npz['targets'].astype(int)\n",
    "\n",
    "npz = np.load('Audiobooks_data_validation.npz')\n",
    "validation_inputs, validation_targets = npz['inputs'].astype(float), npz['targets'].astype(int)\n",
    "\n",
    "npz = np.load('Audiobooks_data_test.npz')\n",
    "test_inputs, test_targets = npz['inputs'].astype(float), npz['targets'].astype(int)"
   ]
  },
  {
   "attachments": {},
   "cell_type": "markdown",
   "metadata": {},
   "source": [
    "#### Model"
   ]
  },
  {
   "attachments": {},
   "cell_type": "markdown",
   "metadata": {},
   "source": [
    "Outline, optimizers, loss, early stopping, and training"
   ]
  },
  {
   "cell_type": "code",
   "execution_count": 3,
   "metadata": {},
   "outputs": [
    {
     "name": "stdout",
     "output_type": "stream",
     "text": [
      "Metal device set to: Apple M1\n",
      "\n",
      "systemMemory: 16.00 GB\n",
      "maxCacheSize: 5.33 GB\n",
      "\n",
      "Epoch 1/100\n"
     ]
    },
    {
     "name": "stderr",
     "output_type": "stream",
     "text": [
      "2023-06-25 11:17:27.591229: I tensorflow/core/common_runtime/pluggable_device/pluggable_device_factory.cc:306] Could not identify NUMA node of platform GPU ID 0, defaulting to 0. Your kernel may not have been built with NUMA support.\n",
      "2023-06-25 11:17:27.591333: I tensorflow/core/common_runtime/pluggable_device/pluggable_device_factory.cc:272] Created TensorFlow device (/job:localhost/replica:0/task:0/device:GPU:0 with 0 MB memory) -> physical PluggableDevice (device: 0, name: METAL, pci bus id: <undefined>)\n",
      "2023-06-25 11:17:27.684953: W tensorflow/core/platform/profile_utils/cpu_utils.cc:128] Failed to get CPU frequency: 0 Hz\n",
      "2023-06-25 11:17:27.972936: I tensorflow/core/grappler/optimizers/custom_graph_optimizer_registry.cc:114] Plugin optimizer for device_type GPU is enabled.\n"
     ]
    },
    {
     "name": "stdout",
     "output_type": "stream",
     "text": [
      "36/36 - 1s - loss: 0.5912 - accuracy: 0.6848 - val_loss: 0.4823 - val_accuracy: 0.7338 - 931ms/epoch - 26ms/step\n",
      "Epoch 2/100\n"
     ]
    },
    {
     "name": "stderr",
     "output_type": "stream",
     "text": [
      "2023-06-25 11:17:28.515459: I tensorflow/core/grappler/optimizers/custom_graph_optimizer_registry.cc:114] Plugin optimizer for device_type GPU is enabled.\n"
     ]
    },
    {
     "name": "stdout",
     "output_type": "stream",
     "text": [
      "36/36 - 0s - loss: 0.4242 - accuracy: 0.7720 - val_loss: 0.3863 - val_accuracy: 0.8054 - 272ms/epoch - 8ms/step\n",
      "Epoch 3/100\n",
      "36/36 - 0s - loss: 0.3893 - accuracy: 0.7907 - val_loss: 0.3902 - val_accuracy: 0.7897 - 251ms/epoch - 7ms/step\n",
      "Epoch 4/100\n",
      "36/36 - 0s - loss: 0.3872 - accuracy: 0.7854 - val_loss: 0.3594 - val_accuracy: 0.8098 - 243ms/epoch - 7ms/step\n",
      "Epoch 5/100\n",
      "36/36 - 0s - loss: 0.3650 - accuracy: 0.8066 - val_loss: 0.3550 - val_accuracy: 0.8188 - 244ms/epoch - 7ms/step\n",
      "Epoch 6/100\n",
      "36/36 - 0s - loss: 0.3575 - accuracy: 0.8094 - val_loss: 0.3643 - val_accuracy: 0.7897 - 244ms/epoch - 7ms/step\n",
      "Epoch 7/100\n",
      "36/36 - 0s - loss: 0.3568 - accuracy: 0.8058 - val_loss: 0.3508 - val_accuracy: 0.7852 - 282ms/epoch - 8ms/step\n",
      "Epoch 8/100\n",
      "36/36 - 0s - loss: 0.3681 - accuracy: 0.8025 - val_loss: 0.3718 - val_accuracy: 0.8143 - 309ms/epoch - 9ms/step\n",
      "Epoch 9/100\n",
      "36/36 - 0s - loss: 0.3533 - accuracy: 0.8055 - val_loss: 0.3428 - val_accuracy: 0.8166 - 267ms/epoch - 7ms/step\n",
      "Epoch 10/100\n",
      "36/36 - 0s - loss: 0.3535 - accuracy: 0.8134 - val_loss: 0.3514 - val_accuracy: 0.8188 - 296ms/epoch - 8ms/step\n",
      "Epoch 11/100\n",
      "36/36 - 0s - loss: 0.3597 - accuracy: 0.8139 - val_loss: 0.3542 - val_accuracy: 0.8054 - 298ms/epoch - 8ms/step\n"
     ]
    },
    {
     "data": {
      "text/plain": [
       "<keras.callbacks.History at 0x29094de80>"
      ]
     },
     "execution_count": 3,
     "metadata": {},
     "output_type": "execute_result"
    }
   ],
   "source": [
    "input_size = 10\n",
    "hidden_layer_size = 50\n",
    "output_size = 2\n",
    "\n",
    "model = tf.keras.Sequential([\n",
    "    tf.keras.layers.Dense(hidden_layer_size, activation='relu'),\n",
    "    tf.keras.layers.Dense(hidden_layer_size, activation='relu'),\n",
    "    tf.keras.layers.Dense(hidden_layer_size, activation='relu'),\n",
    "    tf.keras.layers.Dense(hidden_layer_size, activation='relu'),\n",
    "    tf.keras.layers.Dense(hidden_layer_size, activation='relu'),\n",
    "    tf.keras.layers.Dense(output_size, activation='softmax')\n",
    "    ])\n",
    "\n",
    "model.compile(optimizer='adam', loss='sparse_categorical_crossentropy', metrics=['accuracy'])\n",
    "\n",
    "batch_size = 100\n",
    "max_epochs = 100\n",
    "early_stopping = tf.keras.callbacks.EarlyStopping(patience=2)\n",
    "\n",
    "model.fit(\n",
    "    train_inputs,\n",
    "    train_targets,\n",
    "    batch_size=batch_size,\n",
    "    epochs=max_epochs,\n",
    "    callbacks=[early_stopping],\n",
    "    validation_data=(validation_inputs, validation_targets),\n",
    "    verbose=2\n",
    "    )"
   ]
  },
  {
   "attachments": {},
   "cell_type": "markdown",
   "metadata": {},
   "source": [
    "#### Testing the model"
   ]
  },
  {
   "cell_type": "code",
   "execution_count": 4,
   "metadata": {},
   "outputs": [
    {
     "name": "stdout",
     "output_type": "stream",
     "text": [
      "14/14 [==============================] - 0s 5ms/step - loss: 0.3447 - accuracy: 0.8170\n"
     ]
    }
   ],
   "source": [
    "test_loss, test_accuracy = model.evaluate(test_inputs, test_targets)"
   ]
  },
  {
   "cell_type": "code",
   "execution_count": 5,
   "metadata": {},
   "outputs": [
    {
     "name": "stdout",
     "output_type": "stream",
     "text": [
      "Test Loss: 0.34, Test Accuracy: 0.82%\n"
     ]
    }
   ],
   "source": [
    "print(\"Test Loss: {0:.2f}, Test Accuracy: {1:.2f}%\".format(test_loss, test_accuracy))"
   ]
  }
 ],
 "metadata": {
  "kernelspec": {
   "display_name": "mlp",
   "language": "python",
   "name": "python3"
  },
  "language_info": {
   "codemirror_mode": {
    "name": "ipython",
    "version": 3
   },
   "file_extension": ".py",
   "mimetype": "text/x-python",
   "name": "python",
   "nbconvert_exporter": "python",
   "pygments_lexer": "ipython3",
   "version": "3.8.13"
  },
  "orig_nbformat": 4
 },
 "nbformat": 4,
 "nbformat_minor": 2
}
